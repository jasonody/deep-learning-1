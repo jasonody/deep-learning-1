{
 "cells": [
  {
   "cell_type": "markdown",
   "metadata": {},
   "source": [
    "## Prepare data"
   ]
  },
  {
   "cell_type": "code",
   "execution_count": 2,
   "metadata": {
    "collapsed": true
   },
   "outputs": [],
   "source": [
    "from __future__ import print_function\n",
    "import numpy as np\n",
    "from matplotlib import pyplot as plt"
   ]
  },
  {
   "cell_type": "code",
   "execution_count": 8,
   "metadata": {},
   "outputs": [],
   "source": [
    "with open(\"../../../basic-neural-network-notebook/mnist_dataset/mnist_test_10.csv#\", \"r\") as data_file:\n",
    "    data_list = data_file.readlines()\n",
    "\n",
    "count = 1\n",
    "for row in data_list:\n",
    "    values = row.split(\",\")\n",
    "    label = values[0]\n",
    "    image_array = np.asfarray(values[1:]).reshape((28, 28))\n",
    "    \n",
    "    plt.imshow(image_array, cmap=\"Greys\", interpolation=\"None\")\n",
    "    plt.savefig(\"data/mnist_digits/sample/valid/\" + label + \"/\" + str(count) + \".jpg\")\n",
    "    count = count + 1"
   ]
  },
  {
   "cell_type": "markdown",
   "metadata": {},
   "source": [
    "## Vgg16 for basic image recognition"
   ]
  },
  {
   "cell_type": "code",
   "execution_count": 9,
   "metadata": {},
   "outputs": [
    {
     "name": "stderr",
     "output_type": "stream",
     "text": [
      "Using Theano backend.\n",
      "WARNING (theano.sandbox.cuda): The cuda backend is deprecated and will be removed in the next release (v0.10).  Please switch to the gpuarray backend. You can get more information about how to switch at this URL:\n",
      " https://github.com/Theano/Theano/wiki/Converting-to-the-new-gpu-back-end%28gpuarray%29\n",
      "\n",
      "Using gpu device 0: Tesla K80 (CNMeM is disabled, cuDNN 5103)\n"
     ]
    }
   ],
   "source": [
    "from __future__ import division, print_function\n",
    "##import utils; reload(utils)\n",
    "##from utils import plots\n",
    "import vgg16; reload(vgg16)\n",
    "from vgg16 import Vgg16"
   ]
  },
  {
   "cell_type": "code",
   "execution_count": 31,
   "metadata": {
    "collapsed": true
   },
   "outputs": [],
   "source": [
    "vgg = Vgg16()"
   ]
  },
  {
   "cell_type": "code",
   "execution_count": 32,
   "metadata": {
    "collapsed": true
   },
   "outputs": [],
   "source": [
    "batch_size = 64\n",
    "path = \"data/mnist_digits/sample/\""
   ]
  },
  {
   "cell_type": "code",
   "execution_count": 33,
   "metadata": {},
   "outputs": [
    {
     "name": "stdout",
     "output_type": "stream",
     "text": [
      "Found 101 images belonging to 10 classes.\n",
      "Found 10 images belonging to 10 classes.\n"
     ]
    }
   ],
   "source": [
    "batches = vgg.get_batches(path + \"train\", batch_size=batch_size)\n",
    "val_batches = vgg.get_batches(path + \"valid\", batch_size=batch_size)"
   ]
  },
  {
   "cell_type": "code",
   "execution_count": 34,
   "metadata": {
    "collapsed": true
   },
   "outputs": [],
   "source": [
    "vgg.finetune(batches)"
   ]
  },
  {
   "cell_type": "code",
   "execution_count": 36,
   "metadata": {},
   "outputs": [
    {
     "name": "stdout",
     "output_type": "stream",
     "text": [
      "Epoch 1/10\n",
      "101/101 [==============================] - 4s - loss: 7.9990 - acc: 0.4455 - val_loss: 6.4609 - val_acc: 0.6000\n",
      "Epoch 2/10\n",
      "101/101 [==============================] - 4s - loss: 8.0895 - acc: 0.3960 - val_loss: 6.6159 - val_acc: 0.5000\n",
      "Epoch 3/10\n",
      "101/101 [==============================] - 4s - loss: 8.1155 - acc: 0.4455 - val_loss: 6.4580 - val_acc: 0.6000\n",
      "Epoch 4/10\n",
      "101/101 [==============================] - 4s - loss: 7.5789 - acc: 0.4950 - val_loss: 7.6657 - val_acc: 0.4000\n",
      "Epoch 5/10\n",
      "101/101 [==============================] - 4s - loss: 8.2343 - acc: 0.3861 - val_loss: 7.2692 - val_acc: 0.4000\n",
      "Epoch 6/10\n",
      "101/101 [==============================] - 4s - loss: 7.8978 - acc: 0.4653 - val_loss: 6.5097 - val_acc: 0.6000\n",
      "Epoch 7/10\n",
      "101/101 [==============================] - 4s - loss: 7.3871 - acc: 0.5149 - val_loss: 6.4544 - val_acc: 0.6000\n",
      "Epoch 8/10\n",
      "101/101 [==============================] - 4s - loss: 7.6164 - acc: 0.4455 - val_loss: 6.4477 - val_acc: 0.6000\n",
      "Epoch 9/10\n",
      "101/101 [==============================] - 4s - loss: 7.7473 - acc: 0.4752 - val_loss: 6.4480 - val_acc: 0.6000\n",
      "Epoch 10/10\n",
      "101/101 [==============================] - 4s - loss: 7.6395 - acc: 0.4950 - val_loss: 6.4491 - val_acc: 0.6000\n"
     ]
    }
   ],
   "source": [
    "vgg.model.optimizer.lr = 0.01\n",
    "vgg.fit(batches, val_batches, nb_epoch=10)"
   ]
  },
  {
   "cell_type": "code",
   "execution_count": null,
   "metadata": {
    "collapsed": true
   },
   "outputs": [],
   "source": []
  }
 ],
 "metadata": {
  "kernelspec": {
   "display_name": "Python [default]",
   "language": "python",
   "name": "python2"
  },
  "language_info": {
   "codemirror_mode": {
    "name": "ipython",
    "version": 2
   },
   "file_extension": ".py",
   "mimetype": "text/x-python",
   "name": "python",
   "nbconvert_exporter": "python",
   "pygments_lexer": "ipython2",
   "version": "2.7.13"
  }
 },
 "nbformat": 4,
 "nbformat_minor": 2
}
